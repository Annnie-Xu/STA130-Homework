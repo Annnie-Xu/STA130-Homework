{
 "cells": [
  {
   "cell_type": "markdown",
   "id": "e0fcd4fd",
   "metadata": {},
   "source": [
    "1. Question 1: How does relationship status impact life satisfaction among respondents?\n",
    "\n",
    "2. Variables:\n",
    "\n",
    "    - WELLNESS_life_satisfaction: This variable measures respondents' life satisfaction on a scale from 1 to 10, with higher values indicating greater satisfaction. It is a discrete numerical variable. A histogram will help visualize the distribution of life satisfaction scores across the sample, showing whether responses are skewed, centered, or bimodal. This insight is useful to assess whether most people report high, low, or mixed levels of satisfaction, which might shape our expectations when analyzing differences by relationship status.\n",
    "    \n",
    "     - DEMO_relationship_status: This is a categorical variable that records respondents' relationship status. It includes multiple suboridinating variables: DEMO_relationship_status_single,  DEMO_relationship_status_dating, DEMO_relationship_status_relationship, DEMO_relationship_status_widowed, DEMO_relationship_status_divorced, DEMO_relationship_status_separated, \tDEMO_relationship_status_married, DEMO_relationship_status_common_law. A bar plot will display the frequency of each relationship status category. This visualization gives an overview of how many respondents fall into each category, which will be important when comparing life satisfaction across group.\n",
    "          \n",
    "3. Method: Two-Sample t-tests for pairs of relationship status groups (Since we are comparing life satisfaction across relationship status categories, we can use two-sample t-tests between pairs of groups to test for differences in means.) Detailed Steps:\n",
    "    \n",
    "     - Remove rows where WELLNESS_life_satisfaction or DEMO_relationship_status is missing to ensure a complete dataset.\n",
    "        \n",
    "      - Calculate the mean and standard deviation of WELLNESS_life_satisfaction for each relationship status group as a preliminary look at group differences.\n",
    "        \n",
    "      - Visualizations\n",
    "        \n",
    "      - Two-Sample t-tests:Conduct pairwise two-sample t-tests between relationship status groups (e.g., Married vs. Single, In a relationship vs. Single) to determine if there are statistically significant differences in mean life satisfaction between each pair. Interpret the p-values from each test to decide whether the observed differences are statistically significant.\n",
    "        \n",
    "      - Assumptions: Independence, normality, Equal Variances\n",
    "        \n",
    "4. Hypothesis/Results and Discussion\n",
    "\n",
    "    - Null Hypothesis (H0): There is no significant difference in life satisfaction between each pair of relationship statuses (e.g., Married vs. Single).\n",
    "    \n",
    "    - Alternative Hypothesis (H1): There is a significant difference in life satisfaction between each pair of relationship statuses.\n",
    "    \n",
    "    Expected Results: If we observe p-values below 0.05 for any pairs, we would conclude that there is a significant difference in life satisfaction between those relationship status groups. For instance, if life satisfaction is significantly higher for married individuals compared to single individuals, it could indicate the potential positive impact of marriage on well-being.\n",
    "    \n",
    "    Relevance of Results: Significant findings would suggest that relationship status plays a role in life satisfaction, supporting the notion that social relationships contribute to well-being. Insights from this analysis could help promote the importance of supportive partnerships for improving happiness."
   ]
  },
  {
   "cell_type": "markdown",
   "id": "a6ffd438",
   "metadata": {},
   "source": [
    "1.  Question 2: How does age impact life satisfaction among respondents?\n",
    "\n",
    "2. Variables:\n",
    "    \n",
    "    - WELLNESS_life_satisfaction: This variable measures respondents' life satisfaction on a scale from 1 to 10, with higher values indicating greater satisfaction. It is a discrete numerical variable. A histogram will help visualize the distribution of life satisfaction scores across the sample, showing whether responses are skewed, centered, or bimodal. This insight is useful to assess whether most people report high, low, or mixed levels of satisfaction, which might shape our expectations when analyzing differences by relationship status.\n",
    "    \n",
    "    - DEMO_age: This is a numerical discrete variable that captures the respondent's age in years, making it a continuous predictor variable. Another histogram for age will reveal the distribution of ages in our sample, showing whether the dataset contains a balanced age range or if certain age groups are overrepresented.\n",
    "    \n",
    "3. Method: Simple Linear Regression and Confidence Intervals (Given that both variables are continuous, we’ll use simple linear regression to assess if there’s a linear relationship between age and life satisfaction. This method will quantify the direction and strength of the relationship, and confidence intervals will help interpret the reliability of this relationship.) Detail Steps:\n",
    "\n",
    "    - Data Preparation: Remove any rows where WELLNESS_life_satisfaction or DEMO_age values are missing to ensure completeness.\n",
    "    \n",
    "    - Descriptive Statistics: Calculate the mean, median, and standard deviation of both WELLNESS_life_satisfaction and DEMO_age. This provides context for understanding central tendencies and spread within each variable.\n",
    "    \n",
    "    - Visualizations\n",
    "    \n",
    "    - Conducting the Regression Analysis\n",
    "    \n",
    "    - Conduct Confidence Intervals: Calculate a 95% confidence interval for the slope coefficient to provide insight into the range of possible relationships between age and life satisfaction.\n",
    "    \n",
    "    - Assumptions: Linearity, Independence of Observations, Homoscedasticity, Normality of Residuals.\n",
    "    \n",
    "4. Hypothesis/Results and Discussion\n",
    "    \n",
    "    - Null Hypothesis (H0): There is no significant relationship between age and life satisfaction.\n",
    "\n",
    "    - Alternative Hypothesis (H1): There is a significant relationship between age and life satisfaction.\n",
    "\n",
    "    Expected Results: If we find a statistically significant slope for age (p-value < 0.05), it would suggest that age is a predictor of life satisfaction. For example, a positive slope would indicate that life satisfaction tends to increase with age, while a negative slope would suggest a decrease.\n",
    "\n",
    "    Relevance of Results: Understanding whether life satisfaction changes with age could offer insights into how different life stages impact well-being. For instance, if older individuals report higher satisfaction, this might suggest that stability or life experience enhances well-being. Findings could inform age-specific well-being initiatives or policies."
   ]
  },
  {
   "cell_type": "markdown",
   "id": "cb3568c2",
   "metadata": {},
   "source": [
    "1. Question 3: Does extraversion impact life satisfaction among respondents?\n",
    "2. Variables: \n",
    "    \n",
    "    - WELLNESS_life_satisfaction: This variable measures respondents' life satisfaction on a scale from 1 to 10, with higher values indicating greater satisfaction. It is a discrete numerical variable. A histogram will help visualize the distribution of life satisfaction scores across the sample, showing whether responses are skewed, centered, or bimodal. This insight is useful to assess whether most people report high, low, or mixed levels of satisfaction, which might shape our expectations when analyzing differences by relationship status.\n",
    "    \n",
    "    - PSYCH_ten_item_personality_inventory_extraversion_extraverted_1: This ordinal variable represents respondents' extraversion score on a Likert scale. Although ordinal, we’ll treat it as a predictor in a linear regression model to examine its relationship with life satisfaction. Use a bar plot to display the frequency of each extraversion score, providing context for the distribution of this predictor.\n",
    "    \n",
    "3. Method: linear Regression with Confidence Intervals (Despite PSYCH_ten_item_personality_inventory_extraversion_extraverted_1 being ordinal, we’ll apply simple linear regression to assess if there’s a linear relationship between extraversion scores and life satisfaction. Confidence intervals for the slope will help interpret the reliability of the trend observed.) Steps:\n",
    "\n",
    "      - exclude rows with missing values for WELLNESS_life_satisfaction or PSYCH_ten_item_personality_inventory_extraversion_extraverted_1.\n",
    "      \n",
    "      - Calculate the mean, median, and standard deviation of WELLNESS_life_satisfaction for each level of PSYCH_ten_item_personality_inventory_extraversion_extraverted_1.\n",
    "      \n",
    "      - Visualizations\n",
    "      \n",
    "      - Conducting the Regression Analysis\n",
    "      \n",
    "      - Conduct Confidence Interval\n",
    "      \n",
    "      - Assumptions: Linearity, Independence of Observations, Homoscedasticity, Normality of Residuals.\n",
    "      \n",
    "4. Hypothesis/Results and Discussion:\n",
    "\n",
    "    - Null Hypothesis (H0): There is no significant relationship between extraversion and life satisfaction.\n",
    "\n",
    "    - Alternative Hypothesis (H1): There is a significant positive relationship between extraversion and life satisfaction.\n",
    "\n",
    "    Expected Results: If the regression analysis shows a statistically significant positive slope (p-value < 0.05), it would indicate that higher extraversion scores are associated with greater life satisfaction. This would suggest a positive trend between extraversion and life satisfaction, though interpretation should consider that extraversion is ordinal.\n",
    "\n",
    "    Relevance of Results: Identifying a positive relationship between extraversion and life satisfaction could validate strategies that promote social engagement and positivity. If extraversion is linked to higher life satisfaction, encouraging social interactions or other extraverted activities could support well-being."
   ]
  },
  {
   "cell_type": "markdown",
   "id": "64a3e22d",
   "metadata": {},
   "source": [
    "Preferred Teamate: Shuran Cui"
   ]
  }
 ],
 "metadata": {
  "kernelspec": {
   "display_name": "Python 3 (ipykernel)",
   "language": "python",
   "name": "python3"
  },
  "language_info": {
   "codemirror_mode": {
    "name": "ipython",
    "version": 3
   },
   "file_extension": ".py",
   "mimetype": "text/x-python",
   "name": "python",
   "nbconvert_exporter": "python",
   "pygments_lexer": "ipython3",
   "version": "3.11.6"
  }
 },
 "nbformat": 4,
 "nbformat_minor": 5
}
